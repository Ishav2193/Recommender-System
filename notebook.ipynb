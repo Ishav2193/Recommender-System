{
 "cells": [
  {
   "cell_type": "markdown",
   "metadata": {},
   "source": [
    "IMPORTING THE NECESSARY LIBRARIES"
   ]
  },
  {
   "cell_type": "code",
   "execution_count": 1,
   "metadata": {},
   "outputs": [],
   "source": [
    "import pandas as pd\n",
    "import numpy as np\n",
    "import warnings\n",
    "import streamlit as st \n",
    "from numpy.linalg import norm\n",
    "import seaborn as sns\n",
    "warnings.filterwarnings('ignore')"
   ]
  },
  {
   "cell_type": "markdown",
   "metadata": {},
   "source": [
    "READING THE DATASETS"
   ]
  },
  {
   "cell_type": "code",
   "execution_count": 2,
   "metadata": {},
   "outputs": [],
   "source": [
    "ratings=pd.read_csv('https://raw.githubusercontent.com/AkshatSan/MovieRecomm/main/data/ratings.csv',sep='\\t')\n",
    "users=pd.read_csv('https://raw.githubusercontent.com/AkshatSan/MovieRecomm/main/data/users.csv',encoding='cp1252',sep='\\t')\n",
    "movies = pd.read_csv('movies.csv',sep='\\t',encoding='latin-1', usecols=['movie_id', 'title', 'genres'])"
   ]
  },
  {
   "cell_type": "markdown",
   "metadata": {},
   "source": [
    "EDA"
   ]
  },
  {
   "cell_type": "code",
   "execution_count": 3,
   "metadata": {},
   "outputs": [],
   "source": [
    "users.drop(columns='Unnamed: 0',axis=1,inplace=True)\n",
    "ratings.drop(columns='Unnamed: 0',axis=1,inplace=True)\n",
    "user_rating=users.merge(ratings,how='inner',on='user_id')      #MERGED USERS AND RATINGS DATASET"
   ]
  },
  {
   "cell_type": "code",
   "execution_count": 4,
   "metadata": {},
   "outputs": [],
   "source": [
    "df=user_rating.merge(movies,how='inner',on='movie_id')        #MERGED ALL 3 THE DATASETS\n",
    "df.drop(columns=['user_id','timestamp','occ_desc','movie_id'],axis=1,inplace=True)\n",
    "df.rename(columns={'user_emb_id':'user_id',\n",
    "                   'movie_emb_id':'movie_id'},inplace=True)"
   ]
  },
  {
   "cell_type": "markdown",
   "metadata": {},
   "source": [
    "CONSIDERING ONLY THAT MOVIES WHICH HAVE REVIEW >=100"
   ]
  },
  {
   "cell_type": "code",
   "execution_count": 5,
   "metadata": {},
   "outputs": [],
   "source": [
    "get_movies_that_have_rating_atleast_100=df.groupby('title')['user_id'].count()>=100\n",
    "movies_to_consider=get_movies_that_have_rating_atleast_100[get_movies_that_have_rating_atleast_100]\n",
    "movies_to_consider=list(movies_to_consider.index)"
   ]
  },
  {
   "cell_type": "code",
   "execution_count": 6,
   "metadata": {},
   "outputs": [],
   "source": [
    "r=df['title'].isin(movies_to_consider)\n",
    "df=df[r]"
   ]
  },
  {
   "cell_type": "markdown",
   "metadata": {},
   "source": [
    "SEGREGATING DATA ON THE BASIS OF GENDER"
   ]
  },
  {
   "cell_type": "code",
   "execution_count": 7,
   "metadata": {},
   "outputs": [],
   "source": [
    "df_female=df[df[\"gender\"]=='F']\n",
    "df_male=df[df[\"gender\"]=='M']\n",
    "\n",
    "df_female.drop(columns=['gender','zipcode'],axis=1,inplace=True)\n",
    "df_male.drop(columns=['zipcode','gender'],axis=1,inplace=True)"
   ]
  },
  {
   "cell_type": "code",
   "execution_count": 8,
   "metadata": {},
   "outputs": [],
   "source": [
    "dict_for_age_desc={}\n",
    "c=1\n",
    "for i in df_female['age_desc'].unique():\n",
    "    dict_for_age_desc[i]=c\n",
    "    c+=1\n",
    "\n",
    "df_female['age_desc']=df_female['age_desc'].map(dict_for_age_desc)\n",
    "df_male['age_desc']=df_male['age_desc'].map(dict_for_age_desc)"
   ]
  },
  {
   "cell_type": "code",
   "execution_count": 9,
   "metadata": {},
   "outputs": [],
   "source": [
    "df_female.drop(columns=['age','occupation'],axis=1,inplace=True)\n",
    "df_male.drop(columns=['age','occupation'],axis=1,inplace=True)"
   ]
  },
  {
   "cell_type": "code",
   "execution_count": 10,
   "metadata": {},
   "outputs": [],
   "source": [
    "def convert_into_list(obj):\n",
    "    l=[]\n",
    "    s= str(obj)\n",
    "    if s.count('|')==0:\n",
    "        l.append(s)\n",
    "    else:\n",
    "        l.append(s.split('|'))\n",
    "        l=[i for t in l for i in t]\n",
    "    return l "
   ]
  },
  {
   "cell_type": "markdown",
   "metadata": {},
   "source": [
    "EXPLODE FUNCTION : SUPPOSE WE HAVE ENTRIES IN COLUMN AS LIST->['A','B','C'] THEN EXPLODE FUNCTION WILL CONVERT IT INTO 3 DIFFERENT ROWS."
   ]
  },
  {
   "cell_type": "code",
   "execution_count": 11,
   "metadata": {},
   "outputs": [],
   "source": [
    "df_female['genres']=df_female['genres'].apply(convert_into_list)\n",
    "df_male['genres']=df_male['genres'].apply(convert_into_list)\n",
    "\n",
    "df_female=df_female.explode('genres')    #explode the dataset on basis of column genres\n",
    "df_male=df_male.explode('genres')"
   ]
  },
  {
   "cell_type": "markdown",
   "metadata": {},
   "source": [
    "CONVERTING COLUMN GENRES TO NUMERICAL VALUES"
   ]
  },
  {
   "cell_type": "code",
   "execution_count": 12,
   "metadata": {},
   "outputs": [],
   "source": [
    "n_d={}\n",
    "for i,j in list(zip(df_male['genres'].value_counts().sort_values(ascending=False).index,np.linspace(5,1,18))):\n",
    "    n_d[i]=j\n",
    "\n",
    "df_male['genres']=df_male['genres'].map(n_d)\n",
    "\n",
    "n_d_f={}\n",
    "for i,j in list(zip(df_female['genres'].value_counts().sort_values(ascending=False).index,np.linspace(5,1,18))):\n",
    "    n_d_f[i]=j"
   ]
  },
  {
   "cell_type": "markdown",
   "metadata": {},
   "source": [
    "CREATING A NEW COLUMN CALLED WEIGHTED AVERAGE THAT WILL GIVE HIGHER WEIGHTAGE TO RATINGS COLUMN THAN GENRES COLUMN"
   ]
  },
  {
   "cell_type": "code",
   "execution_count": 13,
   "metadata": {},
   "outputs": [],
   "source": [
    "df_female['genres']=df_female['genres'].map(n_d_f)\n",
    "\n",
    "df_female['weighted_average']=(2*df_female['rating']+df_female['genres'])/3\n",
    "df_male['weighted_average']=(2*df_male['rating']+df_male['genres'])/3"
   ]
  },
  {
   "cell_type": "markdown",
   "metadata": {},
   "source": [
    "SEGREGATING DATASET FURTHER ON THE BASIS OF AGE_DESC"
   ]
  },
  {
   "cell_type": "code",
   "execution_count": 14,
   "metadata": {},
   "outputs": [],
   "source": [
    "f_age_1=df_female[df_female['age_desc']==1]\n",
    "f_age_2=df_female[df_female['age_desc']==2]\n",
    "f_age_3=df_female[df_female['age_desc']==3]\n",
    "f_age_4=df_female[df_female['age_desc']==4]\n",
    "f_age_5=df_female[df_female['age_desc']==5]\n",
    "f_age_6=df_female[df_female['age_desc']==6]\n",
    "f_age_7=df_female[df_female['age_desc']==7]\n",
    "\n",
    "m_age_1=df_male[df_male['age_desc']==1]\n",
    "m_age_2=df_male[df_male['age_desc']==2]\n",
    "m_age_3=df_male[df_male['age_desc']==3]\n",
    "m_age_4=df_male[df_male['age_desc']==4]\n",
    "m_age_5=df_male[df_male['age_desc']==5]\n",
    "m_age_6=df_male[df_male['age_desc']==6]\n",
    "m_age_7=df_male[df_male['age_desc']==7]"
   ]
  },
  {
   "cell_type": "code",
   "execution_count": 15,
   "metadata": {},
   "outputs": [],
   "source": [
    "def drop(data,col):\n",
    "    return data.drop(columns=col,axis=1,inplace=True)\n",
    "\n",
    "drop(f_age_1,'age_desc')\n",
    "drop(f_age_2,'age_desc')\n",
    "drop(f_age_3,'age_desc')\n",
    "drop(f_age_4,'age_desc')\n",
    "drop(f_age_5,'age_desc')\n",
    "drop(f_age_6,'age_desc')\n",
    "drop(f_age_7,'age_desc')\n",
    "\n",
    "drop(m_age_1,'age_desc')\n",
    "drop(m_age_2,'age_desc')\n",
    "drop(m_age_3,'age_desc')\n",
    "drop(m_age_4,'age_desc')\n",
    "drop(m_age_5,'age_desc')\n",
    "drop(m_age_6,'age_desc')\n",
    "drop(m_age_7,'age_desc')"
   ]
  },
  {
   "cell_type": "markdown",
   "metadata": {},
   "source": [
    "BELOW FUNCTION HELP US FIND THE SIMILAR USERS TO A PARTICULAR USER"
   ]
  },
  {
   "cell_type": "code",
   "execution_count": 16,
   "metadata": {},
   "outputs": [],
   "source": [
    "def recommend_users(gender,age,user_id,reqd_data):\n",
    "    similar_user_ids=[]\n",
    "    mapping_dict_for_age={'Under 18':1, '56+':7, '25-34':3, '50-55':4, '18-24':2, '45-49':6, '35-44':5} \n",
    "    age=pd.Series(age).map(mapping_dict_for_age).values[0]\n",
    "    pt=reqd_data.pivot_table(values='weighted_average',index='user_id',columns='title').fillna(0)\n",
    "    pt1=pt\n",
    "    p=pd.DataFrame(pt)\n",
    "    p=p.reset_index()\n",
    "    cos_simi=[]\n",
    "    #ind=p.index[p['user_id']==user_id][0]\n",
    "    ind=list(pt.index).index(user_id)\n",
    "    lst=p[p[\"user_id\"]==user_id].values[0][1:]\n",
    "    for i in p.index:\n",
    "        row_1=p.iloc[i].values[1:]\n",
    "        cos_simi.append(np.dot(row_1,lst)/(norm(row_1))*norm(lst))\n",
    "    similar_items=sorted(list(enumerate(cos_simi)),key=lambda x:x[1],reverse=True)[1:6]    \n",
    "\n",
    "    for i in similar_items:\n",
    "        similar_user_ids.append(pt.index[i[0]])    \n",
    "\n",
    "    return (similar_user_ids,\n",
    "            pt,\n",
    "            p) "
   ]
  },
  {
   "cell_type": "markdown",
   "metadata": {},
   "source": [
    "BELOW FUNCTION WILL HELP US TO RECOMMEND MOVIES TO A PARTICULAR USER"
   ]
  },
  {
   "cell_type": "code",
   "execution_count": 17,
   "metadata": {},
   "outputs": [],
   "source": [
    "def recommend(gender,age,user_id,reqd_data):\n",
    "    similar_user_ids,pt,p=recommend_users(gender,age,user_id,reqd_data)\n",
    "    movies_recommended=[]\n",
    "    for i in similar_user_ids:\n",
    "        get_row=p[p['user_id']==i]\n",
    "        get_row_values=get_row.values[0][1:]\n",
    "        get_col_ind=np.argmax(get_row_values,axis=0)\n",
    "        \n",
    "        reqd_ind=get_col_ind+1\n",
    "        movies_recommended.append(p.columns.tolist()[reqd_ind])\n",
    "    return list(set(movies_recommended))"
   ]
  },
  {
   "cell_type": "markdown",
   "metadata": {},
   "source": [
    "STREAMLIT"
   ]
  },
  {
   "cell_type": "code",
   "execution_count": 18,
   "metadata": {},
   "outputs": [
    {
     "name": "stderr",
     "output_type": "stream",
     "text": [
      "2023-11-17 10:29:32.466 \n",
      "  \u001b[33m\u001b[1mWarning:\u001b[0m to view this Streamlit app on a browser, run it with the following\n",
      "  command:\n",
      "\n",
      "    streamlit run c:\\Users\\A5230\\AppData\\Local\\Programs\\Python\\Python311\\Lib\\site-packages\\ipykernel_launcher.py [ARGUMENTS]\n"
     ]
    }
   ],
   "source": [
    "import streamlit as st\n",
    "st.header('Movie recommendation system')  #adding title\n",
    "st.subheader('This recommender system is based on collaborative filtering techniques using cosine similarity')\n",
    "gender=df['gender'].unique()\n",
    "age=['Under 18', '56+', '25-34', '50-55', '18-24', '45-49', '35-44']\n",
    "gender_selected=st.selectbox(\"select your gender\",gender)\n",
    "user_id=[]\n",
    "age_selected=st.selectbox(\"select your age bracket\",age) \n",
    "data___=pd.DataFrame()\n",
    "if gender_selected=='M':\n",
    "    if age=='Under 18':\n",
    "        user_id.append(m_age_1['user_id'].unique())\n",
    "        data___=m_age_1\n",
    "    elif age=='18-24':\n",
    "        user_id.append(m_age_2['user_id'].unique())\n",
    "        data___=m_age_2\n",
    "    elif age=='25-34':\n",
    "        user_id.append(m_age_3['user_id'].unique())\n",
    "        data___=m_age_3\n",
    "    elif age=='50-55':\n",
    "        user_id.append(m_age_4['user_id'].unique())\n",
    "        data___=m_age_4\n",
    "    elif age=='35-44':\n",
    "        user_id.append(m_age_5['user_id'].unique())\n",
    "        data___=m_age_5\n",
    "    elif age=='45-49':\n",
    "        user_id.append(m_age_6['user_id'].unique())\n",
    "        data___=m_age_6\n",
    "    else:\n",
    "        user_id.append(m_age_7['user_id'].unique())\n",
    "        data___=m_age_7\n",
    "else:\n",
    "    if age=='Under 18':\n",
    "        user_id.append(f_age_1['user_id'].unique())\n",
    "        data___=f_age_1\n",
    "    elif age=='18-24':\n",
    "        user_id.append(f_age_2['user_id'].unique())\n",
    "        data___=f_age_2\n",
    "    elif age=='25-34':\n",
    "        user_id.append(f_age_3['user_id'].unique())\n",
    "        data___=f_age_3\n",
    "    elif age=='50-55':\n",
    "        user_id.append(f_age_4['user_id'].unique())\n",
    "        data___=f_age_4\n",
    "    elif age=='35-44':\n",
    "        user_id.append(f_age_5['user_id'].unique())\n",
    "        data___=f_age_5\n",
    "    elif age=='45-49':\n",
    "        user_id.append(f_age_6['user_id'].unique())\n",
    "        data___=f_age_6\n",
    "    else:\n",
    "        user_id.append(f_age_7['user_id'].unique()) \n",
    "        data___=f_age_7\n",
    "\n",
    "selected_user=st.selectbox(\"select your user_id\",user_id[0])\n",
    "if st.button('Show Recommendation'):\n",
    "    movies=recommend(gender_selected,age_selected,selected_user,data___)\n",
    "    movies"
   ]
  },
  {
   "cell_type": "code",
   "execution_count": 19,
   "metadata": {},
   "outputs": [
    {
     "data": {
      "text/plain": [
       "{'Under 18': 1,\n",
       " '18-24': 2,\n",
       " '25-34': 3,\n",
       " '50-55': 4,\n",
       " '35-44': 5,\n",
       " '45-49': 6,\n",
       " '56+': 7}"
      ]
     },
     "execution_count": 19,
     "metadata": {},
     "output_type": "execute_result"
    }
   ],
   "source": [
    "dict_for_age_desc"
   ]
  },
  {
   "cell_type": "code",
   "execution_count": null,
   "metadata": {},
   "outputs": [],
   "source": []
  }
 ],
 "metadata": {
  "kernelspec": {
   "display_name": "Python 3",
   "language": "python",
   "name": "python3"
  },
  "language_info": {
   "codemirror_mode": {
    "name": "ipython",
    "version": 3
   },
   "file_extension": ".py",
   "mimetype": "text/x-python",
   "name": "python",
   "nbconvert_exporter": "python",
   "pygments_lexer": "ipython3",
   "version": "3.11.4"
  }
 },
 "nbformat": 4,
 "nbformat_minor": 2
}
